{
 "cells": [
  {
   "cell_type": "markdown",
   "metadata": {
    "deletable": true,
    "editable": true
   },
   "source": [
    "## Tutorial showing new \"HTML\" reports\n",
    "\n",
    "PyGSTi has transitioned to producing HTML (rather than LaTeX/PDF) reports.  The way to generate such report is largely unchanged, with one important exception.  Previously, the `Results` object had various report-generation methods included within it.  We've found this is too restrictive, as we'd sometimes like to generate a report which utilizes the results from multiple runs of GST (to compare the, for instance).  Thus, the `Results` class is now just a container for a `DataSet` and its related `GateSet`s, `GatestringStructure`s, etc.  All of the report-generation capability is now housed in within separate report functions, which we now demonstrate.\n",
    "\n",
    "This change allows the reports to include **interactive plots** and **switches**, making it easier to compare different types of analysis or data sets. \n",
    "\n",
    "\n",
    "### Get some data\n",
    "We start by performing GST using `do_long_sequence_gst`, as usual, to create a `Results` object (we could also have just loaded one from file)."
   ]
  },
  {
   "cell_type": "code",
   "execution_count": 1,
   "metadata": {
    "collapsed": false,
    "deletable": true,
    "editable": true
   },
   "outputs": [],
   "source": [
    "import pygsti\n",
    "from pygsti.construction import std1Q_XYI"
   ]
  },
  {
   "cell_type": "code",
   "execution_count": 2,
   "metadata": {
    "collapsed": false,
    "deletable": true,
    "editable": true
   },
   "outputs": [],
   "source": [
    "gs_target = std1Q_XYI.gs_target\n",
    "fiducials = std1Q_XYI.fiducials\n",
    "germs = std1Q_XYI.germs\n",
    "maxLengths = [1,2,4] #,8,16,32,64]"
   ]
  },
  {
   "cell_type": "code",
   "execution_count": 3,
   "metadata": {
    "collapsed": false,
    "deletable": true,
    "editable": true
   },
   "outputs": [],
   "source": [
    "#Generate some data\n",
    "gs_datagen = gs_target.depolarize(gate_noise=0.1, spam_noise=0.001)\n",
    "gs_datagen = gs_datagen.rotate(rotate=0.04)\n",
    "listOfExperiments = pygsti.construction.make_lsgst_experiment_list(gs_target, fiducials, fiducials, germs, maxLengths)\n",
    "ds = pygsti.construction.generate_fake_data(gs_datagen, listOfExperiments, nSamples=1000,\n",
    "                                            sampleError=\"binomial\", seed=1234)"
   ]
  },
  {
   "cell_type": "code",
   "execution_count": 4,
   "metadata": {
    "collapsed": false,
    "deletable": true,
    "editable": true
   },
   "outputs": [],
   "source": [
    "#Run GST\n",
    "gs_target.set_all_parameterizations(\"TP\") #TP-constrained\n",
    "results = pygsti.do_long_sequence_gst(ds, gs_target, fiducials, fiducials, germs,\n",
    "                                      maxLengths, verbosity=0)"
   ]
  },
  {
   "cell_type": "markdown",
   "metadata": {
    "deletable": true,
    "editable": true
   },
   "source": [
    "### Make the reports\n",
    "Now that we have `results`, we use the methods within `pygsti.report.factory` to generate reports.  These reports are HTML pages that you can open in your browser or email to your friends.  Setting `auto_open=True` makes the finished report open in your web browser automatically.  "
   ]
  },
  {
   "cell_type": "code",
   "execution_count": 5,
   "metadata": {
    "collapsed": false,
    "deletable": true,
    "editable": true
   },
   "outputs": [
    {
     "name": "stdout",
     "output_type": "stream",
     "text": [
      "*** Generating tables ***\n",
      "    \n",
      "--- Hessian Projector Optimization for gate CIs (L-BFGS-B) ---\n",
      "   15s           0.0493637099\n",
      "   19s           0.0492290955\n",
      "   24s           0.0491579720\n",
      "   29s           0.0491397623\n",
      "   34s           0.0491292840\n",
      "   39s           0.0491237649\n",
      "   44s           0.0491212513\n",
      "   48s           0.0491190318\n",
      "   53s           0.0491178095\n",
      "   58s           0.0491165483\n",
      "   63s           0.0491152424\n",
      "   68s           0.0491143908\n",
      "  The resulting min sqrt(sum(gateCIs**2)): 0.0491144\n",
      "*** Generating plots ***\n",
      "*** Merging into template file ***\n",
      "Output written to tutorial_files/exampleReport.html\n",
      "Opening tutorial_files/exampleReport.html...\n"
     ]
    }
   ],
   "source": [
    "#This report is very similar to what was previously called the\n",
    "# \"full\" report - but since it's geared toward only single-qubit\n",
    "# analyses, it's been renamed.\n",
    "pygsti.report.create_single_qubit_report(results, \"tutorial_files/exampleReport.html\",\n",
    "                                         verbosity=3, auto_open=True, confidenceLevel=95)"
   ]
  },
  {
   "cell_type": "code",
   "execution_count": 6,
   "metadata": {
    "collapsed": false,
    "deletable": true,
    "editable": true
   },
   "outputs": [
    {
     "name": "stdout",
     "output_type": "stream",
     "text": [
      "*** Generating tables ***\n",
      "*** Generating plots ***\n",
      "*** Merging into template file ***\n",
      "Output written to tutorial_files/exampleGenReport.html\n",
      "Opening tutorial_files/exampleGenReport.html...\n"
     ]
    }
   ],
   "source": [
    "#This report is very similar to the \"general\" PDF report in previous\n",
    "# versions of pyGSTi, and is geared toward data from one or more\n",
    "# qubits or qutrits.\n",
    "pygsti.report.create_general_report(results, \"tutorial_files/exampleGenReport.html\",\n",
    "                                    verbosity=3, auto_open=True)"
   ]
  },
  {
   "cell_type": "markdown",
   "metadata": {
    "deletable": true,
    "editable": true
   },
   "source": [
    "Next, let's analyze the same data two different ways: with and without the TP-constraint (i.e. whether the gates *must* be trace-preserving) and furthermore gauge optmimize each case using several different SPAM-weights.  In each case we'll call `do_long_sequence_gst` with `gaugeOptParams=False`, so that no gauge optimization is done, and then perform several gauge optimizations separately and add these to the `Results` object via its `add_gaugeoptimized` function."
   ]
  },
  {
   "cell_type": "code",
   "execution_count": 9,
   "metadata": {
    "collapsed": false,
    "deletable": true,
    "editable": true
   },
   "outputs": [],
   "source": [
    "#Case1: TP-constrained GST\n",
    "tpTarget = gs_target.copy()\n",
    "tpTarget.set_all_parameterizations(\"TP\")\n",
    "results_tp = pygsti.do_long_sequence_gst(ds, tpTarget, fiducials, fiducials, germs,\n",
    "                                      maxLengths, gaugeOptParams=False, verbosity=0)\n",
    "\n",
    "#Gauge optimize\n",
    "est = results_tp.estimates['default']\n",
    "gsFinal = est.gatesets['final iteration estimate']\n",
    "gsTarget = est.gatesets['target']\n",
    "for spamWt in [1e-4,1e-3,1e-2,1e-1,1.0]:\n",
    "    gs = pygsti.gaugeopt_to_target(gsFinal,gsTarget,{'gates':1, 'spam':spamWt})\n",
    "    est.add_gaugeoptimized({'itemWeights': {'gates':1, 'spam':spamWt}}, gs, \"Spam %g\" % spamWt)"
   ]
  },
  {
   "cell_type": "code",
   "execution_count": 10,
   "metadata": {
    "collapsed": false,
    "deletable": true,
    "editable": true
   },
   "outputs": [],
   "source": [
    "#Case2: \"Full\" GST\n",
    "fullTarget = gs_target.copy()\n",
    "fullTarget.set_all_parameterizations(\"full\")\n",
    "results_full = pygsti.do_long_sequence_gst(ds, fullTarget, fiducials, fiducials, germs,\n",
    "                                      maxLengths, gaugeOptParams=False, verbosity=0)\n",
    "\n",
    "#Gauge optimize\n",
    "est = results_full.estimates['default']\n",
    "gsFinal = est.gatesets['final iteration estimate']\n",
    "gsTarget = est.gatesets['target']\n",
    "for spamWt in [1e-4,1e-3,1e-2,1e-1,1.0]:\n",
    "    gs = pygsti.gaugeopt_to_target(gsFinal,gsTarget,{'gates':1, 'spam':spamWt})\n",
    "    est.add_gaugeoptimized({'itemWeights': {'gates':1, 'spam':spamWt}}, gs, \"Spam %g\" % spamWt)"
   ]
  },
  {
   "cell_type": "markdown",
   "metadata": {
    "deletable": true,
    "editable": true
   },
   "source": [
    "We'll now call the *same* report factory functions but this time instead of passing a single `Results` object as the first argument we'll pass a *dictionary* of them.  This will result in a report that includes switches to select which case (\"TP\" or \"Full\") as well as which gauge optimization to display output quantities for."
   ]
  },
  {
   "cell_type": "code",
   "execution_count": 11,
   "metadata": {
    "collapsed": false,
    "deletable": true,
    "editable": true
   },
   "outputs": [
    {
     "name": "stdout",
     "output_type": "stream",
     "text": [
      "*** Generating tables ***\n",
      "*** Generating plots ***\n",
      "*** Merging into template file ***\n",
      "Output written to tutorial_files/exampleMultiReport.html\n",
      "Opening tutorial_files/exampleMultiReport.html...\n"
     ]
    }
   ],
   "source": [
    "pygsti.report.create_single_qubit_report({'TP': results_tp, \"Full\": results_full},\n",
    "                                         \"tutorial_files/exampleMultiReport.html\",verbosity=3,\n",
    "                                         auto_open=True)"
   ]
  },
  {
   "cell_type": "code",
   "execution_count": 12,
   "metadata": {
    "collapsed": false,
    "deletable": true,
    "editable": true,
    "scrolled": true
   },
   "outputs": [
    {
     "name": "stdout",
     "output_type": "stream",
     "text": [
      "*** Generating tables ***\n",
      "*** Generating plots ***\n",
      "*** Merging into template file ***\n",
      "Output written to tutorial_files/exampleMultiGenReport.html\n",
      "Opening tutorial_files/exampleMultiGenReport.html...\n"
     ]
    }
   ],
   "source": [
    "pygsti.report.create_general_report({'TP': results_tp, \"Full\": results_full},\n",
    "                                    \"tutorial_files/exampleMultiGenReport.html\",verbosity=3,\n",
    "                                    auto_open=True)"
   ]
  },
  {
   "cell_type": "markdown",
   "metadata": {
    "collapsed": true,
    "deletable": true,
    "editable": true
   },
   "source": [
    "Note that these HTML reports are created quickly but require some time to load within a browser.  This is because the typsetting and figure rendering is done within your browser, rather than up front by `pdflatex`.  Also note that the plots in the new HTML reports are  interactive - a primary advantage of the HTML format.\n",
    "\n",
    "Other report formats such as **`beamer`-class PDF presentation and Powerpoint presentation have been dropped from pyGSTi**.  These presentation formats were rarely used and moreover we feel that the HTML format is able to provide all of the functionality that was present in these discontinued formats."
   ]
  },
  {
   "cell_type": "markdown",
   "metadata": {
    "collapsed": true,
    "deletable": true,
    "editable": true
   },
   "source": [
    "### Veteran users\n",
    "Try setting `brief` to `True` to produce more data-dense and useful versions of the reports."
   ]
  },
  {
   "cell_type": "code",
   "execution_count": 13,
   "metadata": {
    "collapsed": false,
    "deletable": true,
    "editable": true
   },
   "outputs": [
    {
     "name": "stdout",
     "output_type": "stream",
     "text": [
      "*** Generating tables ***\n",
      "*** Generating plots ***\n",
      "*** Merging into template file ***\n",
      "Output written to tutorial_files/exampleReportBrief.html\n",
      "Opening tutorial_files/exampleReportBrief.html...\n",
      "*** Generating tables ***\n",
      "*** Generating plots ***\n",
      "*** Merging into template file ***\n",
      "Output written to tutorial_files/exampleGenReportBrief.html\n",
      "Opening tutorial_files/exampleGenReportBrief.html...\n"
     ]
    }
   ],
   "source": [
    "pygsti.report.create_single_qubit_report(results,\"tutorial_files/exampleReportBrief.html\", \n",
    "                                         brief=True,verbosity=3, auto_open=True)\n",
    "pygsti.report.create_general_report(results,\"tutorial_files/exampleGenReportBrief.html\", \n",
    "                                    brief=True, verbosity=3, auto_open=True)"
   ]
  },
  {
   "cell_type": "markdown",
   "metadata": {
    "deletable": true,
    "editable": true
   },
   "source": [
    "### Sharing with others\n",
    "The report factory functions may be passed a boolean `connected` argument to specify whether online (`True`) or local (`False`) resources should be used by the generated report HTML files.  If `connected=False` (the default, and so what we used in this notebook), then the HTML files rely on the presence of an `offline` folder being in their directory to operate correctly.  The offline folder is automatically generated for you when you call any of the report factory functions, so you typically don't need to worry about it.  \n",
    "\n",
    "However, *sharing offline reports* (created with `connected=False`) requires the recipeint has pyGSTi's `offline` folder in the same diretory as any report HTML files.  To facilitate sharing, you can get a zipped copy of the offline folder by calling `create_offline_zip` like this:"
   ]
  },
  {
   "cell_type": "code",
   "execution_count": 14,
   "metadata": {
    "collapsed": false,
    "deletable": true,
    "editable": true
   },
   "outputs": [],
   "source": [
    "pygsti.report.create_offline_zip(\"tutorial_files/\")\n",
    "  #creates .../tutorial_files/offline.zip"
   ]
  },
  {
   "cell_type": "markdown",
   "metadata": {
    "collapsed": true,
    "deletable": true,
    "editable": true
   },
   "source": [
    "If you use `connected=True`, then there's no need for the offline folder -- but you'll need to have an internet connection to load the HTML file."
   ]
  },
  {
   "cell_type": "code",
   "execution_count": null,
   "metadata": {
    "collapsed": true,
    "deletable": true,
    "editable": true
   },
   "outputs": [],
   "source": []
  }
 ],
 "metadata": {
  "kernelspec": {
   "display_name": "Python 3",
   "language": "python",
   "name": "python3"
  },
  "language_info": {
   "codemirror_mode": {
    "name": "ipython",
    "version": 3
   },
   "file_extension": ".py",
   "mimetype": "text/x-python",
   "name": "python",
   "nbconvert_exporter": "python",
   "pygments_lexer": "ipython3",
   "version": "3.5.2"
  }
 },
 "nbformat": 4,
 "nbformat_minor": 2
}
