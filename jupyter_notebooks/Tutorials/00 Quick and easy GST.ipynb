{
 "cells": [
  {
   "cell_type": "markdown",
   "metadata": {
    "deletable": true,
    "editable": true
   },
   "source": [
    "# Getting started quickly with Gate Set Tomography"
   ]
  },
  {
   "cell_type": "markdown",
   "metadata": {
    "deletable": true,
    "editable": true
   },
   "source": [
    "The `pygsti` package provides multiple levels of abstraction over the core Gate Set Tomography (GST) algorithms.  This initial tutorial will show you how to work with `pygsti`'s highest level of abstraction to get you started using GST quickly.  Subsequent tutorials will delve into the details of `pygsti` objects and algorithms, and how to use them in detail."
   ]
  },
  {
   "cell_type": "markdown",
   "metadata": {
    "deletable": true,
    "editable": true
   },
   "source": [
    "## The `do_long_sequence_gst` driver function\n",
    "Let's first look at how to use the  `do_long_sequence_gst` which combines all the steps of running typical GST algortithms into a single function. "
   ]
  },
  {
   "cell_type": "code",
   "execution_count": 1,
   "metadata": {
    "collapsed": false,
    "deletable": true,
    "editable": true
   },
   "outputs": [],
   "source": [
    "#Make print statements compatible with Python 2 and 3\n",
    "from __future__ import print_function\n",
    "\n",
    "#Set matplotlib backend: the ipython \"inline\" backend cannot pickle\n",
    "# figures, which is required for generating pyGSTi reports\n",
    "import matplotlib  \n",
    "matplotlib.use('Agg')"
   ]
  },
  {
   "cell_type": "code",
   "execution_count": 2,
   "metadata": {
    "collapsed": false,
    "deletable": true,
    "editable": true
   },
   "outputs": [],
   "source": [
    "#Import the pygsti module (always do this)\n",
    "import pygsti"
   ]
  },
  {
   "cell_type": "markdown",
   "metadata": {
    "deletable": true,
    "editable": true
   },
   "source": [
    "#### First, we need to specify what our desired gate set is, referred to as the \"target gateset\".\n",
    "Gate sets and other `pygsti` objects are constructed using routines within `pygsti.construction`, and so we construct a gateset by calling `pygsti.construction.build_gateset`:"
   ]
  },
  {
   "cell_type": "code",
   "execution_count": 3,
   "metadata": {
    "collapsed": false,
    "deletable": true,
    "editable": true
   },
   "outputs": [],
   "source": [
    "#Construct a target gateset\n",
    "gs_target = pygsti.construction.build_gateset([2], [('Q0',)], ['Gi', 'Gx', 'Gy'],\n",
    "                                              [\"I(Q0)\", \"X(pi/2,Q0)\", \"Y(pi/2,Q0)\"],\n",
    "                                              prepLabels=['rho0'], prepExpressions=[\"0\"],\n",
    "                                              effectLabels=['E0'], effectExpressions=[\"1\"],\n",
    "                                              spamdefs={'plus': ('rho0', 'E0'),\n",
    "                                                        'minus': ('rho0', 'remainder')})"
   ]
  },
  {
   "cell_type": "markdown",
   "metadata": {
    "deletable": true,
    "editable": true
   },
   "source": [
    "The parameters to `build_gateset`, specify:\n",
    " - The state space is dimension 2 (i.e. the density matrix is 2x2)\n",
    " \n",
    " - interpret this 2-dimensional space as that of a single qubit labeled \"Q0\" (label must begin with 'Q')\n",
    " \n",
    " - there are three gates: Idle, $\\pi/2$ x-rotation, $\\pi/2$ y-rotation, labeled `Gi`, `Gx`, and `Gy`.\n",
    " \n",
    " - there is one state prep operation, labeled `rho0`, which prepares the 0-state (the first basis element of the 2D state space)\n",
    " \n",
    " - there is one POVM (~ measurement), labeled `E0` that projects onto the 1-state (the second basis element of the 2D state space)\n",
    " \n",
    " - the name of the state-prep then measure our POVM is `plus`\n",
    " \n",
    " - the name of the state-prep then measure something other than our POVM is `minus` "
   ]
  },
  {
   "cell_type": "markdown",
   "metadata": {
    "deletable": true,
    "editable": true
   },
   "source": [
    "Reading from and writing to files is done mostly via routines in `pygsti.io`. To store this gateset in a file (for reference or to load it somewhere else), you just call `pygsti.io.write_gateset`:"
   ]
  },
  {
   "cell_type": "code",
   "execution_count": 4,
   "metadata": {
    "collapsed": false,
    "deletable": true,
    "editable": true
   },
   "outputs": [],
   "source": [
    "#Write it to a file\n",
    "pygsti.io.write_gateset(gs_target, \"tutorial_files/MyTargetGateset.txt\")\n",
    "\n",
    "#To load the gateset back into a python object, do:\n",
    "# gs_target = pygsti.io.load_gateset(\"tutorial_files/MyTargetGateset.txt\")"
   ]
  },
  {
   "cell_type": "markdown",
   "metadata": {
    "deletable": true,
    "editable": true
   },
   "source": [
    "#### Next, we need to create fiducial, germ, and max-length lists:\n",
    "These three lists will specify what experiments GST will use in its estimation procedure, and depend on the target gateset as well as the expected quality of the qubit being measured.  They are:\n",
    "\n",
    "- fiducial gate strings (``fiducials``): gate sequences that immediately follow state preparation or immediately precede measurement.\n",
    "\n",
    "\n",
    "- germ gate strings (``germs``): gate sequences that are repeated to produce a string that is as close to some \"maximum length\" as possible without exceeding it.\n",
    "\n",
    "\n",
    "- maximum lengths (`maxLengths`): a list of maximum lengths used to specify the increasingly long gate sequences (via more germ repeats) used by each iteration of the GST estimation procedure.\n",
    "\n",
    "To make GST most effective, these gate strings lists should be computed.  Typically this computation is done by the Sandia GST folks and the gate string lists are sent to you, though there is preliminary support within `pygsti` for computing these string lists directly.  Here, we'll assume we have been given the lists.  The maximum lengths list typically starts with [0,1] and then contains successive powers of two.  The largest maximum length should roughly correspond to the number of gates ones qubit can perform before becoming depolarized beyond ones ability to measure anything other than the maximally mixed state.  Since we're constructing gate string lists, the routines used are in `pygsti.construction`:"
   ]
  },
  {
   "cell_type": "code",
   "execution_count": 5,
   "metadata": {
    "collapsed": true,
    "deletable": true,
    "editable": true
   },
   "outputs": [],
   "source": [
    "#Create fiducial gate string lists\n",
    "fiducials = pygsti.construction.gatestring_list( [ (), ('Gx',), ('Gy',), ('Gx','Gx'), ('Gx','Gx','Gx'), ('Gy','Gy','Gy') ])\n",
    "\n",
    "#Create germ gate string lists\n",
    "germs = pygsti.construction.gatestring_list( [('Gx',), ('Gy',), ('Gi',), ('Gx', 'Gy',),\n",
    "         ('Gx', 'Gy', 'Gi',), ('Gx', 'Gi', 'Gy',), ('Gx', 'Gi', 'Gi',), ('Gy', 'Gi', 'Gi',),\n",
    "         ('Gx', 'Gx', 'Gi', 'Gy',), ('Gx', 'Gy', 'Gy', 'Gi',),\n",
    "         ('Gx', 'Gx', 'Gy', 'Gx', 'Gy', 'Gy',)] )\n",
    "\n",
    "#Create maximum lengths list\n",
    "maxLengths = [1,2,4,8,16,32]"
   ]
  },
  {
   "cell_type": "markdown",
   "metadata": {
    "deletable": true,
    "editable": true
   },
   "source": [
    "If we want to, we can save these lists in files (but this is not necessary):"
   ]
  },
  {
   "cell_type": "code",
   "execution_count": 6,
   "metadata": {
    "collapsed": true,
    "deletable": true,
    "editable": true
   },
   "outputs": [],
   "source": [
    "pygsti.io.write_gatestring_list(\"tutorial_files/MyFiducials.txt\", fiducials, \"My fiducial gate strings\")\n",
    "pygsti.io.write_gatestring_list(\"tutorial_files/MyGerms.txt\", germs, \"My germ gate strings\")\n",
    "\n",
    "import pickle\n",
    "pickle.dump( maxLengths, open(\"tutorial_files/MyMaxLengths.pkl\", \"wb\"))\n",
    "\n",
    "# To load these back into python lists, do:\n",
    "#fiducials = pygsti.io.load_gatestring_list(\"tutorial_files/MyFiducials.txt\")\n",
    "#germs = pygsti.io.load_gatestring_list(\"tutorial_files/MyGerms.txt\")\n",
    "#maxLengths = pickle.load( open(\"tutorial_files/MyMaxLengths.pkl\"))"
   ]
  },
  {
   "cell_type": "markdown",
   "metadata": {
    "collapsed": true,
    "deletable": true,
    "editable": true
   },
   "source": [
    "#### Third, we generate (since we can't actually take) data and save a dataset\n",
    "Before experimental data is obtained, it is useful to create a \"template\" dataset file which specifies which gate sequences are required to run GST.  Since we don't actually have an experiment for this example, we'll generate some \"fake\" experimental data from a set of gates that are just depolarized versions of the targets.  First we construct the list of experiments used by GST using `make_lsgst_experiment_list`, and use the result to specify which experiments to simulate.  The abbreviation \"LSGST\" (lowercase in function names to follow Python naming conventions) stands for \"Long Sequence Gate Set Tomography\", and refers to the more powerful flavor of GST that utilizes long sequences to find gate set estimates.  LSGST can be compared to Linear GST, or \"LGST\", which only uses short sequences and as a result provides much less accurate estimates."
   ]
  },
  {
   "cell_type": "code",
   "execution_count": 7,
   "metadata": {
    "collapsed": false,
    "deletable": true,
    "editable": true
   },
   "outputs": [],
   "source": [
    "#Create a list of GST experiments for this gateset, with\n",
    "#the specified fiducials, germs, and maximum lengths\n",
    "listOfExperiments = pygsti.construction.make_lsgst_experiment_list(\n",
    "    gs_target, fiducials, fiducials, germs, maxLengths)\n",
    "\n",
    "#Create an empty dataset file, which stores the list of experiments\n",
    "#plus extra columns where data can be inserted\n",
    "pygsti.io.write_empty_dataset(\"tutorial_files/MyDataTemplate.txt\", listOfExperiments,\n",
    "                              \"## Columns = plus count, count total\")"
   ]
  },
  {
   "cell_type": "markdown",
   "metadata": {
    "deletable": true,
    "editable": true
   },
   "source": [
    "Since we don't actually have a experiment to generate real data, let's now create and save a dataset using depolarized target gates and spam operations:"
   ]
  },
  {
   "cell_type": "code",
   "execution_count": 8,
   "metadata": {
    "collapsed": false,
    "deletable": true,
    "editable": true
   },
   "outputs": [],
   "source": [
    "#Create a gateset of depolarized gates and SPAM relative to target, and generate fake data using this gateset.\n",
    "gs_datagen = gs_target.depolarize(gate_noise=0.1, spam_noise=0.001)\n",
    "ds = pygsti.construction.generate_fake_data(gs_datagen, listOfExperiments, nSamples=1000,\n",
    "                                            sampleError=\"binomial\", seed=2015)\n"
   ]
  },
  {
   "cell_type": "markdown",
   "metadata": {
    "deletable": true,
    "editable": true
   },
   "source": [
    "We could at this point just use the generated dataset directly, but let's save it as though it were a file filled with experimental results."
   ]
  },
  {
   "cell_type": "code",
   "execution_count": 9,
   "metadata": {
    "collapsed": false,
    "deletable": true,
    "editable": true
   },
   "outputs": [],
   "source": [
    "#Save our dataset\n",
    "pygsti.io.write_dataset(\"tutorial_files/MyDataset.txt\", ds)\n",
    "\n",
    "#Note; to load the dataset back again, do:\n",
    "#ds = pygsti.io.load_dataset(\"tutorial_files/MyDataset.txt\")"
   ]
  },
  {
   "cell_type": "markdown",
   "metadata": {
    "collapsed": true,
    "deletable": true,
    "editable": true
   },
   "source": [
    "#### (OUTDATED!!!) Fourth, we call the Analysis function\n",
    "Now we're all set to call the driver routine.  All of the possible arguments to this function are detailed in the included help (docstring), and so here we just make a few remarks:\n",
    "- For many of the arguments, you can supply either a filename or a python object (e.g. dataset, target gateset, gate string lists).\n",
    "\n",
    "\n",
    "- `fiducials` is supplied twice since the state preparation fiducials (those sequences following a state prep) need not be the same as the measurement fiducials (those sequences preceding a measurement).\n",
    "\n",
    "\n",
    "- Typically we want to constrain the resulting gates to be trace-preserving.  This is accomplished by the call to `set_all_parameterizations(\"TP\")`, which restricts `gs_target` to only describing TP gates (see more on this in later tutorials).\n",
    "\n",
    "\n",
    "- `gaugeOptParams` specifies a dictionary of parameters ultimately to be passed to the `gaugeopt_to_target` function (which provides full documentation).  We set the ratio of the state preparation and measurement (SPAM) weighting to the gate weighting when performing a gauge optimization.  When this is set as below, the gate parameters are weighted 1000 times more relative to the SPAM parameters.  Mathematically this corresponds to a multiplicative factor of 0.001 preceding the sum-of-squared-difference terms corresponding to SPAM elements in the gateset.   Typically it is good to weight the gates parameters more heavily since GST amplifies gate parameter errors via long gate sequences but cannot amplify SPAM parameter errors.  If unsure, 0.001 is a good value to start with."
   ]
  },
  {
   "cell_type": "code",
   "execution_count": 10,
   "metadata": {
    "collapsed": false,
    "deletable": true,
    "editable": true
   },
   "outputs": [
    {
     "name": "stdout",
     "output_type": "stream",
     "text": [
      "Loading tutorial_files/MyDataset.txt: 100%\n",
      "Writing cache file (to speed future loads): tutorial_files/MyDataset.txt.cache\n",
      "-- Std Practice:  Iter 1 of 2  (TP) --: \n",
      "  --- LGST ---\n",
      "  --- Iterative MLGST: [##################################################] 100.0%  1585 gate strings ---\n",
      "  Iterative MLGST Total Time: 1.6s\n",
      "-- Std Practice:  Iter 2 of 2  (CPTP) --: \n",
      "  --- Iterative MLGST: [##################################################] 100.0%  1585 gate strings ---\n",
      "  Iterative MLGST Total Time: 3.1s\n"
     ]
    }
   ],
   "source": [
    "results = pygsti.do_stdpractice_gst(\"tutorial_files/MyDataset.txt\", gs_target,                                     \n",
    "                                    fiducials, fiducials, germs, maxLengths)\n"
   ]
  },
  {
   "cell_type": "code",
   "execution_count": 18,
   "metadata": {
    "collapsed": false,
    "deletable": true,
    "editable": true,
    "scrolled": true
   },
   "outputs": [
    {
     "name": "stdout",
     "output_type": "stream",
     "text": [
      "rho0 =    0.7071  -0.0008  -0.0058   0.7050\n",
      "\n",
      "\n",
      "E0 =    0.7075  -0.0020  -0.0054  -0.7065\n",
      "\n",
      "\n",
      "Gi = \n",
      "   1.0000        0        0        0\n",
      "  -0.0001   0.9007  -0.0009   0.0026\n",
      "   0.0003   0.0017   0.8984  -0.0018\n",
      "  -0.0009  -0.0008   0.0005   0.8950\n",
      "\n",
      "\n",
      "Gx = \n",
      "   1.0000        0        0        0\n",
      "  -0.0003   0.8985  -0.0009  -0.0002\n",
      "  -0.0004   0.0021  -0.0032  -0.9019\n",
      "  -0.0003  -0.0028   0.9019   0.0047\n",
      "\n",
      "\n",
      "Gy = \n",
      "   1.0000        0        0        0\n",
      "  -0.0003  -0.0001  -0.0046   0.9022\n",
      "   0.0006  -0.0016   0.8978  -0.0065\n",
      "   0.0004  -0.9022   0.0035   0.0006\n",
      "\n",
      "\n",
      "\n"
     ]
    }
   ],
   "source": [
    "import pickle\n",
    "s = pickle.dumps(results)\n",
    "r2 = pickle.loads(s)\n",
    "print(r2.estimates['TP'].gatesets['Spam 0.0001'])\n"
   ]
  },
  {
   "cell_type": "markdown",
   "metadata": {
    "deletable": true,
    "editable": true
   },
   "source": [
    "The analysis routine returns a `pygsti.report.Results` object which encapsulates intermediate and final GST estimates, as well as some quantities derived from these \"raw\" estimates.  These objects can be used when generating HTML reports, using functions within `pygsti.report`, as we demonstrate below. "
   ]
  },
  {
   "cell_type": "code",
   "execution_count": 20,
   "metadata": {
    "collapsed": false,
    "deletable": true,
    "editable": true,
    "scrolled": true
   },
   "outputs": [
    {
     "name": "stdout",
     "output_type": "stream",
     "text": [
      "rho0 =    0.7071  -0.0008  -0.0058   0.7050\n",
      "\n",
      "\n",
      "E0 =    0.7075  -0.0020  -0.0054  -0.7065\n",
      "\n",
      "\n",
      "Gi = \n",
      "   1.0000        0        0        0\n",
      "  -0.0001   0.9007  -0.0009   0.0026\n",
      "   0.0003   0.0017   0.8984  -0.0018\n",
      "  -0.0009  -0.0008   0.0005   0.8950\n",
      "\n",
      "\n",
      "Gx = \n",
      "   1.0000        0        0        0\n",
      "  -0.0003   0.8985  -0.0009  -0.0002\n",
      "  -0.0004   0.0021  -0.0032  -0.9019\n",
      "  -0.0003  -0.0028   0.9019   0.0047\n",
      "\n",
      "\n",
      "Gy = \n",
      "   1.0000        0        0        0\n",
      "  -0.0003  -0.0001  -0.0046   0.9022\n",
      "   0.0006  -0.0016   0.8978  -0.0065\n",
      "   0.0004  -0.9022   0.0035   0.0006\n",
      "\n",
      "\n",
      "\n"
     ]
    }
   ],
   "source": [
    "# Access to raw GST best gateset estimate (after gauge optimization)\n",
    "print(results.estimates['TP'].gatesets['Spam 0.0001'])\n"
   ]
  },
  {
   "cell_type": "code",
   "execution_count": 21,
   "metadata": {
    "collapsed": false,
    "deletable": true,
    "editable": true,
    "scrolled": true
   },
   "outputs": [
    {
     "name": "stdout",
     "output_type": "stream",
     "text": [
      "*** Generating tables ***\n",
      "    \n",
      "--- Hessian Projector Optimization for gate CIs (L-BFGS-B) ---\n",
      "    9s           0.0278812438\n",
      "   14s           0.0276211460\n",
      "   19s           0.0275954134\n",
      "   24s           0.0275786283\n",
      "   29s           0.0275733244\n",
      "   35s           0.0275724603\n",
      "  The resulting min sqrt(sum(gateCIs**2)): 0.0275725\n",
      "    \n",
      "--- Hessian Projector Optimization for gate CIs (L-BFGS-B) ---\n",
      "   14s           0.1577171383\n",
      "   19s           0.1576439456\n",
      "   24s           0.1574537048\n",
      "   29s           0.1571662062\n",
      "   33s           0.1568346774\n",
      "   38s           0.1564345169\n",
      "   43s           0.1547837952\n",
      "   53s           0.1533902678\n",
      "   62s           0.1521120252\n",
      "   67s           0.1495010380\n",
      "   72s           0.1359355342\n",
      "   77s           0.1216415256\n",
      "   91s           0.1179970796\n",
      "   96s           0.1151106579\n",
      "  101s           0.1127600985\n",
      "  106s           0.1084313952\n",
      "  111s           0.1058887481\n",
      "  116s           0.1012151869\n",
      "  120s           0.0984673271\n",
      "  125s           0.0970586335\n",
      "  130s           0.0959234739\n",
      "  135s           0.0952304941\n",
      "  139s           0.0941937056\n",
      "  144s           0.0919170391\n",
      "  149s           0.0916686894\n",
      "  162s           0.0916476410\n",
      "  180s           0.0916435950\n",
      "  185s           0.0905600283\n",
      "  The resulting min sqrt(sum(gateCIs**2)): 0.0904459\n",
      "*** Generating plots ***\n",
      "*** Merging into template file ***\n",
      "Output written to tutorial_files/easy_single.html\n",
      "Opening tutorial_files/easy_single.html...\n"
     ]
    }
   ],
   "source": [
    "#create a \"full\" single-qubit GST report (most detailed and pedagogical; best for those getting familiar with GST)\n",
    "pygsti.report.create_single_qubit_report(results, confidenceLevel=95, \n",
    "                                         filename=\"tutorial_files/easy_single.html\",\n",
    "                                         verbosity=2, auto_open=True)"
   ]
  },
  {
   "cell_type": "code",
   "execution_count": 22,
   "metadata": {
    "collapsed": false,
    "deletable": true,
    "editable": true
   },
   "outputs": [
    {
     "name": "stdout",
     "output_type": "stream",
     "text": [
      "*** Generating tables ***\n",
      "*** Generating plots ***\n",
      "*** Merging into template file ***\n",
      "Output written to tutorial_files/easy_single_brief.html\n",
      "Opening tutorial_files/easy_single_brief.html...\n"
     ]
    }
   ],
   "source": [
    "#create a \"brief-mode\" report, which highlights main results; for those familiar with the report's tables and figures)\n",
    "pygsti.report.create_single_qubit_report(results, confidenceLevel=95, \n",
    "                                         filename=\"tutorial_files/easy_single_brief.html\",\n",
    "                                         verbosity=2, brief=True, auto_open=True)"
   ]
  },
  {
   "cell_type": "code",
   "execution_count": 23,
   "metadata": {
    "collapsed": false,
    "deletable": true,
    "editable": true
   },
   "outputs": [
    {
     "name": "stdout",
     "output_type": "stream",
     "text": [
      "*** Generating tables ***\n",
      "*** Generating plots ***\n",
      "*** Merging into template file ***\n",
      "Output written to tutorial_files/easy_general.html\n",
      "Opening tutorial_files/easy_general.html...\n"
     ]
    }
   ],
   "source": [
    "#Creates a report whose format is not specific to single qubits, and which is indended to be\n",
    "# used for \"general\" (any) qubit number.\n",
    "pygsti.report.create_general_report(results, confidenceLevel=95,\n",
    "                                    filename=\"tutorial_files/easy_general.html\",\n",
    "                                    verbosity=2, auto_open=True)"
   ]
  },
  {
   "cell_type": "markdown",
   "metadata": {
    "collapsed": true,
    "deletable": true,
    "editable": true
   },
   "source": [
    "The above lines should have opened each created report in a new tab of your browser. For reference, here are brief descriptions of the types of reports pyGSTi is capable of generating, along with links to the examples we just created.  Each of these reports can be generated in a \"full\" (`brief=False`) and \"brief\" (`brief=True`) modes.  The former is much more detailed and pedagogical, and is best for those getting familiar with GST.  The latter mode is useful for veteran users who are already familiar with what the tables and figures in the report signify. \n",
    "\n",
    "- **Single-qubit reports** specialize in displaying the results of single-qubit GST.     [tutorial_files/easy_single.html](tutorial_files/easy_single.html) is an example of a full-mode report, and [tutorial_files/easy_single_brief.html](tutorial_files/easy_single_brief.html) a brief-mode report.\n",
    "\n",
    "- **\"General\" reports** are intended to display the results of GST on one *or more* qubits (or larger-than-single-qubit Hilbert spaces in general).  [tutorial_files/easy_general.html](tutorial_files/easy_general.html) is an example.  While this report analyzes just a single qubit, the format is not 1-qubit specific."
   ]
  },
  {
   "cell_type": "markdown",
   "metadata": {
    "deletable": true,
    "editable": true
   },
   "source": [
    "## Speeding things up by using Standard constructions\n",
    "A significant component of running GST as show above is constructing things: the target gateset, the fiducial, germ, and maximum-length lists, etc.  We've found that many people who use GST have one of only a few different target gatesets, and for these commonly used target gatesets we've created modules that perform most of the constructions for you.  If you gateset isn't one of these standard ones then you'll have to follow the above approach for now, but please let us know and we'll try to add a module for your gateset in the future."
   ]
  },
  {
   "cell_type": "markdown",
   "metadata": {
    "deletable": true,
    "editable": true
   },
   "source": [
    "The standard construction modules are located under `pygsti.construction` (surprise, surprise) and are prefixed with \"`std`\".  In the example above, our gateset (comprised of single qubit $I$, X($\\pi/2$), and Y($\\pi/2$) gates) is one of the commonly used gatesets, and relevant constructions are importable via:"
   ]
  },
  {
   "cell_type": "code",
   "execution_count": 24,
   "metadata": {
    "collapsed": true,
    "deletable": true,
    "editable": true
   },
   "outputs": [],
   "source": [
    "#Import the \"stardard 1-qubit quantities for a gateset with X(pi/2), Y(pi/2), and idle gates\"\n",
    "from pygsti.construction import std1Q_XYI"
   ]
  },
  {
   "cell_type": "markdown",
   "metadata": {
    "deletable": true,
    "editable": true
   },
   "source": [
    "We follow the same order of constructing things as above, but it's much easier since almost everything has been constructed already:"
   ]
  },
  {
   "cell_type": "code",
   "execution_count": 25,
   "metadata": {
    "collapsed": true,
    "deletable": true,
    "editable": true
   },
   "outputs": [],
   "source": [
    "gs_target = std1Q_XYI.gs_target\n",
    "fiducials = std1Q_XYI.fiducials\n",
    "germs = std1Q_XYI.germs\n",
    "maxLengths = [1,2,4,8,16,32] #still need to define this manually"
   ]
  },
  {
   "cell_type": "markdown",
   "metadata": {
    "deletable": true,
    "editable": true
   },
   "source": [
    "We generate a fake dataset as before:"
   ]
  },
  {
   "cell_type": "code",
   "execution_count": 26,
   "metadata": {
    "collapsed": false,
    "deletable": true,
    "editable": true
   },
   "outputs": [],
   "source": [
    "gs_datagen = gs_target.depolarize(gate_noise=0.1, spam_noise=0.001)\n",
    "listOfExperiments = pygsti.construction.make_lsgst_experiment_list(gs_target.gates.keys(), fiducials, fiducials, germs, maxLengths)\n",
    "ds = pygsti.construction.generate_fake_data(gs_datagen, listOfExperiments, nSamples=1000000,\n",
    "                                            sampleError=\"binomial\", seed=1234)"
   ]
  },
  {
   "cell_type": "markdown",
   "metadata": {
    "deletable": true,
    "editable": true
   },
   "source": [
    "And run the analysis function (this time using the dataset object directly instead of loading from a file), and then create a report in the specified file."
   ]
  },
  {
   "cell_type": "code",
   "execution_count": 27,
   "metadata": {
    "collapsed": false,
    "deletable": true,
    "editable": true,
    "scrolled": true
   },
   "outputs": [
    {
     "name": "stdout",
     "output_type": "stream",
     "text": [
      "--- LGST ---\n",
      "  Singular values of I_tilde (truncating to first 4 of 6) = \n",
      "  4.24409810599\n",
      "  1.16704609919\n",
      "  0.946915237\n",
      "  0.943164947695\n",
      "  0.00230163583615\n",
      "  0.000699324004315\n",
      "  \n",
      "  Singular values of target I_tilde (truncating to first 4 of 6) = \n",
      "  4.24264068712\n",
      "  1.41421356237\n",
      "  1.41421356237\n",
      "  1.41421356237\n",
      "  3.33818959205e-16\n",
      "  1.55012476151e-16\n",
      "  \n",
      "--- Iterative MLGST: Iter 1 of 6  92 gate strings ---: \n",
      "  --- Minimum Chi^2 GST ---\n",
      "  Created evaluation tree with 1 subtrees.  Will divide 1 procs into 1 (subtree-processing)\n",
      "   groups of ~1 procs each, to distribute over 43 params (taken as 1 param groups of ~43 params).\n",
      "  Sum of Chi^2 = 65.4588 (92 data params - 31 model params = expected mean of 61; p-value = 0.32481)\n",
      "  Completed in 0.1s\n",
      "  2*Delta(log(L)) = 65.4654\n",
      "  Iteration 1 took 0.1s\n",
      "  \n",
      "--- Iterative MLGST: Iter 2 of 6  168 gate strings ---: \n",
      "  --- Minimum Chi^2 GST ---\n",
      "  Created evaluation tree with 1 subtrees.  Will divide 1 procs into 1 (subtree-processing)\n",
      "   groups of ~1 procs each, to distribute over 43 params (taken as 1 param groups of ~43 params).\n",
      "  Sum of Chi^2 = 136.541 (168 data params - 31 model params = expected mean of 137; p-value = 0.495)\n",
      "  Completed in 0.1s\n",
      "  2*Delta(log(L)) = 136.546\n",
      "  Iteration 2 took 0.1s\n",
      "  \n",
      "--- Iterative MLGST: Iter 3 of 6  441 gate strings ---: \n",
      "  --- Minimum Chi^2 GST ---\n",
      "  Created evaluation tree with 1 subtrees.  Will divide 1 procs into 1 (subtree-processing)\n",
      "   groups of ~1 procs each, to distribute over 43 params (taken as 1 param groups of ~43 params).\n",
      "  Sum of Chi^2 = 409.627 (441 data params - 31 model params = expected mean of 410; p-value = 0.495914)\n",
      "  Completed in 0.1s\n",
      "  2*Delta(log(L)) = 409.632\n",
      "  Iteration 3 took 0.1s\n",
      "  \n",
      "--- Iterative MLGST: Iter 4 of 6  817 gate strings ---: \n",
      "  --- Minimum Chi^2 GST ---\n",
      "  Created evaluation tree with 1 subtrees.  Will divide 1 procs into 1 (subtree-processing)\n",
      "   groups of ~1 procs each, to distribute over 43 params (taken as 1 param groups of ~43 params).\n",
      "  Sum of Chi^2 = 753.34 (817 data params - 31 model params = expected mean of 786; p-value = 0.793481)\n",
      "  Completed in 0.2s\n",
      "  2*Delta(log(L)) = 753.354\n",
      "  Iteration 4 took 0.2s\n",
      "  \n",
      "--- Iterative MLGST: Iter 5 of 6  1201 gate strings ---: \n",
      "  --- Minimum Chi^2 GST ---\n",
      "  Created evaluation tree with 1 subtrees.  Will divide 1 procs into 1 (subtree-processing)\n",
      "   groups of ~1 procs each, to distribute over 43 params (taken as 1 param groups of ~43 params).\n",
      "  Sum of Chi^2 = 1165.78 (1201 data params - 31 model params = expected mean of 1170; p-value = 0.52932)\n",
      "  Completed in 0.3s\n",
      "  2*Delta(log(L)) = 1165.8\n",
      "  Iteration 5 took 0.4s\n",
      "  \n",
      "--- Iterative MLGST: Iter 6 of 6  1585 gate strings ---: \n",
      "  --- Minimum Chi^2 GST ---\n",
      "  Created evaluation tree with 1 subtrees.  Will divide 1 procs into 1 (subtree-processing)\n",
      "   groups of ~1 procs each, to distribute over 43 params (taken as 1 param groups of ~43 params).\n",
      "  Sum of Chi^2 = 1573.44 (1585 data params - 31 model params = expected mean of 1554; p-value = 0.359737)\n",
      "  Completed in 0.3s\n",
      "  2*Delta(log(L)) = 1573.46\n",
      "  Iteration 6 took 0.4s\n",
      "  \n",
      "  Switching to ML objective (last iteration)\n",
      "  --- MLGST ---\n",
      "  Created evaluation tree with 1 subtrees.  Will divide 1 procs into 1 (subtree-processing)\n",
      "   groups of ~1 procs each, to distribute over 43 params (taken as 1 param groups of ~43 params).\n",
      "    Maximum log(L) = 786.731 below upper bound of -2.65149e+09\n",
      "      2*Delta(log(L)) = 1573.46 (1585 data params - 31 model params = expected mean of 1554; p-value = 0.35957)\n",
      "    Completed in 0.2s\n",
      "  2*Delta(log(L)) = 1573.46\n",
      "  Final MLGST took 0.2s\n",
      "  \n",
      "Iterative MLGST Total Time: 1.4s\n"
     ]
    },
    {
     "name": "stderr",
     "output_type": "stream",
     "text": [
      "\n",
      "WARNING: MLGST failed to improve logl: retaining chi2-objective estimate\n"
     ]
    },
    {
     "name": "stdout",
     "output_type": "stream",
     "text": [
      "*** Generating tables ***\n",
      "    \n",
      "--- Hessian Projector Optimization for gate CIs (L-BFGS-B) ---\n",
      "    9s           0.0008805845\n",
      "   14s           0.0008721035\n",
      "   19s           0.0008712885\n",
      "  The resulting min sqrt(sum(gateCIs**2)): 0.000871289\n",
      "*** Generating plots ***\n",
      "*** Merging into template file ***\n",
      "Output written to tutorial_files/MyEvenEasierReport.html\n"
     ]
    }
   ],
   "source": [
    "gs_target.set_all_parameterizations(\"TP\")\n",
    "results = pygsti.do_long_sequence_gst(ds, gs_target, fiducials, fiducials, germs, maxLengths)\n",
    "pygsti.report.create_single_qubit_report(results, confidenceLevel=95, \n",
    "                                         filename=\"tutorial_files/MyEvenEasierReport.html\",\n",
    "                                         verbosity=2)"
   ]
  },
  {
   "cell_type": "markdown",
   "metadata": {
    "collapsed": true,
    "deletable": true,
    "editable": true
   },
   "source": [
    "Now open [tutorial_files/MyEvenEasierReport.html](tutorial_files/MyEvenEasierReport.html) to see the results.  (Note that the report didn't open automatically this time because `auto_open` defaults to `False`.)  You've just run GST (again)!"
   ]
  },
  {
   "cell_type": "code",
   "execution_count": 28,
   "metadata": {
    "collapsed": false,
    "deletable": true,
    "editable": true,
    "scrolled": true
   },
   "outputs": [
    {
     "name": "stdout",
     "output_type": "stream",
     "text": [
      "----------------------------------------------------------\n",
      "---------------- pyGSTi Results Object -------------------\n",
      "----------------------------------------------------------\n",
      "\n",
      "How to access my contents:\n",
      "\n",
      " .dataset    -- the DataSet used to generate these results\n",
      "\n",
      " .gatestring_lists   -- a dict of GateString lists w/keys:\n",
      " ---------------------------------------------------------\n",
      "  iteration\n",
      "  final\n",
      "  all\n",
      "  iteration delta\n",
      "  prep fiducials\n",
      "  effect fiducials\n",
      "  germs\n",
      "\n",
      " .gatestring_structs   -- a dict of GatestringStructures w/keys:\n",
      " ---------------------------------------------------------\n",
      "  iteration\n",
      "  final\n",
      "\n",
      " .estimates   -- a dictionary of Estimate objects:\n",
      " ---------------------------------------------------------\n",
      "  default\n",
      "\n",
      "\n"
     ]
    }
   ],
   "source": [
    "# Printing a Results object gives you information about how to extract information from it\n",
    "print(results)"
   ]
  },
  {
   "cell_type": "code",
   "execution_count": null,
   "metadata": {
    "collapsed": true,
    "deletable": true,
    "editable": true
   },
   "outputs": [],
   "source": []
  },
  {
   "cell_type": "code",
   "execution_count": null,
   "metadata": {
    "collapsed": true
   },
   "outputs": [],
   "source": []
  }
 ],
 "metadata": {
  "kernelspec": {
   "display_name": "Python 3",
   "language": "python",
   "name": "python3"
  },
  "language_info": {
   "codemirror_mode": {
    "name": "ipython",
    "version": 3
   },
   "file_extension": ".py",
   "mimetype": "text/x-python",
   "name": "python",
   "nbconvert_exporter": "python",
   "pygments_lexer": "ipython3",
   "version": "3.5.2"
  }
 },
 "nbformat": 4,
 "nbformat_minor": 0
}
